{
 "cells": [
  {
   "cell_type": "code",
   "execution_count": 18,
   "metadata": {},
   "outputs": [],
   "source": [
    "import torch\n",
    "from torch.autograd.functional import jacobian"
   ]
  },
  {
   "cell_type": "code",
   "execution_count": 128,
   "metadata": {},
   "outputs": [
    {
     "name": "stdout",
     "output_type": "stream",
     "text": [
      "tensor([[ 10.,   6.],\n",
      "        [ 19., 120.],\n",
      "        [ 28., 504.]])\n",
      "tensor([13., 24.])\n"
     ]
    }
   ],
   "source": [
    "def func(input_data):\n",
    "    \"\"\"\n",
    "    Takes a tensor of shape [batch_size, input_size] and produces\n",
    "    a tensor of shape [batch_size, output_size].\n",
    "    \"\"\"\n",
    "    assert input_data.ndim in [1, 2]\n",
    "    a = input_data.sum(dim = -1) + 4\n",
    "    b = input_data.prod(dim = -1)\n",
    "    return torch.stack((a, b), dim = -1)\n",
    "\n",
    "print(func(torch.tensor([[1.0, 2.0, 3.0], [4.0, 5.0, 6.0], [7.0, 8.0, 9.0]])))\n",
    "print(func(torch.tensor([2.0, 3.0, 4.0])))"
   ]
  },
  {
   "cell_type": "code",
   "execution_count": 31,
   "metadata": {},
   "outputs": [
    {
     "data": {
      "text/plain": [
       "tensor([[1., 1.],\n",
       "        [3., 2.]])"
      ]
     },
     "execution_count": 31,
     "metadata": {},
     "output_type": "execute_result"
    }
   ],
   "source": [
    "jacobian(func, torch.tensor([2.0, 3.0]))"
   ]
  },
  {
   "cell_type": "code",
   "execution_count": 33,
   "metadata": {},
   "outputs": [
    {
     "data": {
      "text/plain": [
       "tensor([[[[1., 1.],\n",
       "          [0., 0.]],\n",
       "\n",
       "         [[3., 2.],\n",
       "          [0., 0.]]],\n",
       "\n",
       "\n",
       "        [[[0., 0.],\n",
       "          [1., 1.]],\n",
       "\n",
       "         [[0., 0.],\n",
       "          [5., 4.]]]])"
      ]
     },
     "execution_count": 33,
     "metadata": {},
     "output_type": "execute_result"
    }
   ],
   "source": [
    "jacobian(func, torch.tensor([[2.0, 3.0], [4.0, 5.0]]))"
   ]
  },
  {
   "cell_type": "code",
   "execution_count": 63,
   "metadata": {},
   "outputs": [
    {
     "name": "stdout",
     "output_type": "stream",
     "text": [
      "tensor([[ 5.,  6.],\n",
      "        [ 9., 20.],\n",
      "        [13., 42.]], grad_fn=<StackBackward>)\n",
      "(tensor([[1., 1.],\n",
      "        [1., 1.],\n",
      "        [1., 1.]]),)\n",
      "(tensor([[3., 2.],\n",
      "        [5., 4.],\n",
      "        [7., 6.]]),)\n"
     ]
    }
   ],
   "source": [
    "data = torch.tensor([[2.0, 3.0], [4.0, 5.0], [6.0, 7.0]])\n",
    "data.requires_grad = True\n",
    "result = func(data)\n",
    "print(result)\n",
    "print(torch.autograd.grad(result[:, 0], data, grad_outputs = torch.ones_like(result[:, 0]), retain_graph = True))\n",
    "print(torch.autograd.grad(result[:, 1], data, grad_outputs = torch.ones_like(result[:, 1])))"
   ]
  },
  {
   "cell_type": "code",
   "execution_count": 131,
   "metadata": {},
   "outputs": [
    {
     "name": "stdout",
     "output_type": "stream",
     "text": [
      "torch.Size([3, 2]) torch.Size([3, 4, 2])\n",
      "torch.Size([2]) torch.Size([4, 2])\n"
     ]
    },
    {
     "data": {
      "text/plain": [
       "(tensor([14., 24.], grad_fn=<SqueezeBackward1>), tensor([[ 1., 24.],\n",
       "         [ 1., 12.],\n",
       "         [ 1.,  8.],\n",
       "         [ 1.,  6.]]))"
      ]
     },
     "execution_count": 131,
     "metadata": {},
     "output_type": "execute_result"
    }
   ],
   "source": [
    "def calc_jacobian(func, input_data):\n",
    "    \"\"\"\n",
    "    Calculates the output and the Jacobian of the function at the given \n",
    "    input data. The input data is of shape [batch_size, input_size], \n",
    "    while the output data is of shape [batch_size, output_size] and the\n",
    "    Jacobian is of size [batch_size, input_size, output_size].\n",
    "    \"\"\"\n",
    "    assert input_data.ndim in [1, 2]\n",
    "    reshaped = input_data.ndim == 1\n",
    "    if reshaped:\n",
    "        input_data = input_data.reshape((1, -1))\n",
    "    input_data.requires_grad = True\n",
    "    output_data = func(input_data)\n",
    "    jacobian_data = torch.empty(\n",
    "        (output_data.shape[0], input_data.shape[1], output_data.shape[1]))\n",
    "    for i in range(output_data.shape[1]):\n",
    "        jacobian_data[:, :, i] = torch.autograd.grad(\n",
    "            output_data[:, i], \n",
    "            input_data,\n",
    "            torch.ones(input_data.shape[0]),\n",
    "            retain_graph = i + 1 < output_data.shape[1])[0]\n",
    "    if reshaped:\n",
    "        output_data = output_data.squeeze(dim=0)\n",
    "        jacobian_data = jacobian_data.squeeze(dim=0)\n",
    "    print(output_data.shape, jacobian_data.shape)\n",
    "    return output_data, jacobian_data\n",
    "\n",
    "calc_jacobian(func, torch.tensor([[1.0, 2.0, 3.0, 4.0], [4.0, 5.0, 6.0, 7.0], [2.0, 3.0, 4.0, 5.0]]))\n",
    "calc_jacobian(func, torch.tensor([1.0, 2.0, 3.0, 4.0]))"
   ]
  },
  {
   "cell_type": "code",
   "execution_count": null,
   "metadata": {},
   "outputs": [],
   "source": []
  }
 ],
 "metadata": {
  "kernelspec": {
   "display_name": "Python 3",
   "language": "python",
   "name": "python3"
  },
  "language_info": {
   "codemirror_mode": {
    "name": "ipython",
    "version": 3
   },
   "file_extension": ".py",
   "mimetype": "text/x-python",
   "name": "python",
   "nbconvert_exporter": "python",
   "pygments_lexer": "ipython3",
   "version": "3.6.9"
  }
 },
 "nbformat": 4,
 "nbformat_minor": 2
}
