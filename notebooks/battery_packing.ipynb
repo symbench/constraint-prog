{
 "cells": [
  {
   "cell_type": "code",
   "execution_count": 1,
   "metadata": {},
   "outputs": [],
   "source": [
    "import csv\n",
    "import math\n",
    "\n",
    "#read optimal cirle packing arrangements and used battery types\n",
    "N = list()\n",
    "ratio = list()\n",
    "with open('arrangements.csv', newline='') as csvfile:\n",
    "    reader = csv.DictReader(csvfile, delimiter=';', quotechar='|')\n",
    "    for row in reader:\n",
    "        N.append(int(row['N']))\n",
    "        ratio.append(float(row['ratio']))\n",
    "\n",
    "batteries = list()\n",
    "with open('batteries.csv', newline='') as csvfile:\n",
    "    reader = csv.DictReader(csvfile, delimiter=';', quotechar='|')\n",
    "    for row in reader:\n",
    "        batteries.append(row)"
   ]
  },
  {
   "cell_type": "code",
   "execution_count": 6,
   "metadata": {},
   "outputs": [],
   "source": [
    "#hull sizes [mm]: d - diameter; l - length\n",
    "hull_ds = list(range(10, 1010, 10))\n",
    "hull_ls = list(range(10, 1010, 10))\n",
    "\n",
    "with open('output.csv', 'w', newline='') as csvfile:\n",
    "    fieldnames = ['hull_D', 'hull_L', 'batt_MODEL', 'batt_D', 'batt_L', 'total_N', 'total_CAP', 'total_MASS']\n",
    "    writer = csv.DictWriter(csvfile, fieldnames=fieldnames, delimiter=';', quotechar='|')\n",
    "    writer.writeheader()\n",
    "    # sweep thru params\n",
    "    for hull_d in hull_ds:\n",
    "        for hull_l in hull_ls:\n",
    "            for model, b in enumerate(batteries):\n",
    "                batt_d = float(b['D'])\n",
    "                batt_l = float(b['L'])\n",
    "                batt_m = float(b['M'])\n",
    "                batt_c = float(b['C'])\n",
    "                # hull size to battery size ratio - it gives the optimal packing parameter\n",
    "                curr_ratio = hull_d / batt_d\n",
    "                # find closest ratio that is still feasible\n",
    "                curr_N = 0\n",
    "                if hull_d >= batt_d:\n",
    "                    for i in range(len(N)):\n",
    "                        if ratio[i] > curr_ratio:\n",
    "                            curr_N = i\n",
    "                            break\n",
    "                # calculate the total number of battery cells based on hull length\n",
    "                N_total = curr_N * math.floor(hull_l / batt_l)\n",
    "                if N_total == 0:\n",
    "                    continue\n",
    "                # if we have >0 batteries, calculate total capacity and mass\n",
    "                MASS_total = N_total * batt_m\n",
    "                CAP_total = N_total * batt_c\n",
    "                # append line to the results\n",
    "                writer.writerow({'hull_D': hull_d / 1000.0,\n",
    "                                 'hull_L': hull_l / 1000.0,\n",
    "                                 'batt_MODEL': model,\n",
    "                                 'batt_D': batt_d / 1000.0,\n",
    "                                 'batt_L': batt_l / 1000.0,\n",
    "                                 'total_N': N_total,\n",
    "                                 'total_CAP': CAP_total / 1000.0,\n",
    "                                 'total_MASS': MASS_total})\n",
    "                # debug output here\n",
    "                #print(hull_d, hull_l, model, batt_d, batt_l, N_total, MASS_total, CAP_total)"
   ]
  },
  {
   "cell_type": "code",
   "execution_count": null,
   "metadata": {},
   "outputs": [],
   "source": []
  }
 ],
 "metadata": {
  "kernelspec": {
   "display_name": "Python 3",
   "language": "python",
   "name": "python3"
  },
  "language_info": {
   "codemirror_mode": {
    "name": "ipython",
    "version": 3
   },
   "file_extension": ".py",
   "mimetype": "text/x-python",
   "name": "python",
   "nbconvert_exporter": "python",
   "pygments_lexer": "ipython3",
   "version": "3.6.5"
  }
 },
 "nbformat": 4,
 "nbformat_minor": 4
}
