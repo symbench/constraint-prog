{
 "cells": [
  {
   "cell_type": "code",
   "execution_count": 1,
   "metadata": {},
   "outputs": [],
   "source": [
    "import torch"
   ]
  },
  {
   "cell_type": "code",
   "execution_count": 27,
   "metadata": {},
   "outputs": [
    {
     "name": "stdout",
     "output_type": "stream",
     "text": [
      "torch.Size([2, 4, 3]) torch.Size([2, 3])\n",
      "tensor([[4, 2, 3],\n",
      "        [2, 3, 3]], dtype=torch.int32)\n",
      "torch.Size([2, 4, 4]) torch.Size([2, 4, 3]) torch.Size([2, 3, 3])\n",
      "tensor([[[ 1.1921e-07, -5.5879e-09, -5.9605e-08],\n",
      "         [ 0.0000e+00,  0.0000e+00,  0.0000e+00],\n",
      "         [-5.9605e-08,  0.0000e+00,  0.0000e+00],\n",
      "         [ 0.0000e+00,  0.0000e+00,  0.0000e+00]],\n",
      "\n",
      "        [[-5.9605e-08,  0.0000e+00,  0.0000e+00],\n",
      "         [ 0.0000e+00,  0.0000e+00,  0.0000e+00],\n",
      "         [-5.9605e-08,  0.0000e+00,  0.0000e+00],\n",
      "         [ 0.0000e+00, -6.2864e-09, -5.9605e-08]]])\n"
     ]
    }
   ],
   "source": [
    "a = torch.randn(2, 4, 3)\n",
    "lu, p = torch.lu(a)\n",
    "print(lu.shape, p.shape)\n",
    "print(p)\n",
    "q, l, u = torch.lu_unpack(lu, p)\n",
    "print(q.shape, l.shape, u.shape)\n",
    "print((a - torch.matmul(torch.matmul(q, l), u)))"
   ]
  },
  {
   "cell_type": "code",
   "execution_count": null,
   "metadata": {},
   "outputs": [],
   "source": []
  }
 ],
 "metadata": {
  "kernelspec": {
   "display_name": "Python 3",
   "language": "python",
   "name": "python3"
  },
  "language_info": {
   "codemirror_mode": {
    "name": "ipython",
    "version": 3
   },
   "file_extension": ".py",
   "mimetype": "text/x-python",
   "name": "python",
   "nbconvert_exporter": "python",
   "pygments_lexer": "ipython3",
   "version": "3.6.9"
  }
 },
 "nbformat": 4,
 "nbformat_minor": 2
}
